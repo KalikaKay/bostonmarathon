{
 "metadata": {
  "name": "",
  "signature": "sha256:bb51a080cd90d7d4a415d28606e355fc09b7acfa526d89a7278600781d43f92f"
 },
 "nbformat": 3,
 "nbformat_minor": 0,
 "worksheets": [
  {
   "cells": [
    {
     "cell_type": "code",
     "collapsed": false,
     "input": [
      "import cPickle\n",
      "import matplotlib.pyplot as plt\n",
      "import prettyplotlib as ppl\n",
      "\n",
      "%matplotlib inline"
     ],
     "language": "python",
     "metadata": {},
     "outputs": [],
     "prompt_number": 20
    },
    {
     "cell_type": "code",
     "collapsed": false,
     "input": [
      "runners = cPickle.load(file(\"results.pkl\"))"
     ],
     "language": "python",
     "metadata": {},
     "outputs": [],
     "prompt_number": 36
    },
    {
     "cell_type": "code",
     "collapsed": false,
     "input": [
      "runners[105]"
     ],
     "language": "python",
     "metadata": {},
     "outputs": [
      {
       "metadata": {},
       "output_type": "pyout",
       "prompt_number": 42,
       "text": [
        "{'10k': u'0:32:45',\n",
        " '20k': u'1:05:30',\n",
        " '25k': u'1:21:55',\n",
        " '30k': u'1:38:37',\n",
        " '35k': u'1:55:36',\n",
        " '40k': u'2:12:06',\n",
        " '5k': u'0:16:23',\n",
        " 'age': u'30',\n",
        " 'bib': u'105',\n",
        " 'city': u'Denver',\n",
        " 'country': u'USA',\n",
        " 'ctz': u'',\n",
        " 'division': u'19',\n",
        " 'gender': u'20',\n",
        " 'half': u'1:09:05',\n",
        " 'name': u'Dewald, Matt',\n",
        " 'official': u'2:19:35',\n",
        " 'overall': u'20',\n",
        " 'pace': u'0:05:20',\n",
        " 'state': u'CO'}"
       ]
      }
     ],
     "prompt_number": 42
    },
    {
     "cell_type": "code",
     "collapsed": false,
     "input": [
      "ages = [int(r[\"age\"]) for k,r in runners.iteritems()]"
     ],
     "language": "python",
     "metadata": {},
     "outputs": [],
     "prompt_number": 38
    },
    {
     "cell_type": "code",
     "collapsed": false,
     "input": [
      "plt.hist(ages, bins=10)"
     ],
     "language": "python",
     "metadata": {},
     "outputs": [
      {
       "metadata": {},
       "output_type": "pyout",
       "prompt_number": 63,
       "text": [
        "(array([  779.,  2409.,  2756.,  3490.,  3527.,  3015.,  1185.,   348.,\n",
        "           48.,     7.]),\n",
        " array([ 18. ,  24.2,  30.4,  36.6,  42.8,  49. ,  55.2,  61.4,  67.6,\n",
        "         73.8,  80. ]),\n",
        " <a list of 10 Patch objects>)"
       ]
      },
      {
       "metadata": {},
       "output_type": "display_data",
       "png": "[encoded data removed]",
       "text": [
        "<matplotlib.figure.Figure at 0x117541090>"
       ]
      }
     ],
     "prompt_number": 63
    },
    {
     "cell_type": "code",
     "collapsed": false,
     "input": [
      "plt.hist?"
     ],
     "language": "python",
     "metadata": {},
     "outputs": [],
     "prompt_number": 55
    },
    {
     "cell_type": "code",
     "collapsed": false,
     "input": [
      "def minutes(time):\n",
      "    parts = [int(x) for x in runners[105]['official'].split(':')]\n",
      "    return parts[0] * 60 + parts[1] + parts[2]/60."
     ],
     "language": "python",
     "metadata": {},
     "outputs": [
      {
       "metadata": {},
       "output_type": "pyout",
       "prompt_number": 54,
       "text": [
        "([2, 19, 35], 139.58333333333334)"
       ]
      }
     ],
     "prompt_number": 54
    },
    {
     "cell_type": "code",
     "collapsed": false,
     "input": [],
     "language": "python",
     "metadata": {},
     "outputs": [
      {
       "metadata": {},
       "output_type": "pyout",
       "prompt_number": 48,
       "text": [
        "<function numpy.core.fromnumeric.product>"
       ]
      }
     ],
     "prompt_number": 48
    },
    {
     "cell_type": "code",
     "collapsed": false,
     "input": [],
     "language": "python",
     "metadata": {},
     "outputs": []
    }
   ],
   "metadata": {}
  }
 ]
}